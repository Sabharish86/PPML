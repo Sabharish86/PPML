{
 "cells": [
  {
   "cell_type": "code",
   "execution_count": 2,
   "id": "ab207247",
   "metadata": {},
   "outputs": [
    {
     "name": "stdout",
     "output_type": "stream",
     "text": [
      "         a   b   c\n",
      "one     11  21  31\n",
      "two      1  22  32\n",
      "three  315  32  33\n"
     ]
    }
   ],
   "source": [
    "import pandas as pd\n",
    "df = pd.DataFrame([[11, 21, 31], [1, 22, 32], [315, 32, 33]],index=['one', 'two','three'], columns=['a', 'b', 'c'])\n",
    "print(df)"
   ]
  },
  {
   "cell_type": "code",
   "execution_count": 30,
   "id": "f801417b-6d58-4648-abec-9652a1b2194c",
   "metadata": {},
   "outputs": [
    {
     "name": "stdout",
     "output_type": "stream",
     "text": [
      "Taking the input from Dataframe and storing in the Excel file\n"
     ]
    }
   ],
   "source": [
    "print(\"Taking the input from Dataframe and storing in the Excel file\")\n",
    "df.to_excel('pandas_to_excel.xlsx', sheet_name='new_sheet_name')"
   ]
  },
  {
   "cell_type": "code",
   "execution_count": 28,
   "id": "58387a3a-cb13-41f3-a057-f420a579e99a",
   "metadata": {},
   "outputs": [],
   "source": [
    "d= pd.DataFrame([[110, 210, 310], [12, 220, 320], [310, 320, 330]],\n",
    "index=['four', 'five', 'six'], columns=['a', 'b', 'c'])\n",
    "\n",
    "d.to_excel('pandas_to_excel1.xlsx', sheet_name='new_sheet_name’')"
   ]
  },
  {
   "cell_type": "code",
   "execution_count": 62,
   "id": "b7a5f1ff-95a5-413b-b112-09f8f15eadbb",
   "metadata": {},
   "outputs": [],
   "source": [
    "import pandas as pd\n",
    "x = pd.read_excel('pandas_to_excel.xlsx')\n",
    "y = pd.read_excel('pandas_to_excel1.xlsx')\n",
    "#z=x.append(y)\n",
    "z = pd.concat([x, y])\n",
    "z.to_excel('pandas_to_excel2.xlsx')"
   ]
  },
  {
   "cell_type": "code",
   "execution_count": 66,
   "id": "b750061c-9bfc-4fd0-a137-07eaf12c8697",
   "metadata": {},
   "outputs": [
    {
     "name": "stdout",
     "output_type": "stream",
     "text": [
      "  Unnamed: 0    a    b    c\n",
      "1        two    1   22   32\n",
      "0        one   11   21   31\n",
      "1       five   12  220  320\n",
      "0       four  110  210  310\n",
      "2        six  310  320  330\n",
      "2      three  315   32   33\n"
     ]
    }
   ],
   "source": [
    "df=z.sort_values([\"a\"])\n",
    "print(df)\n",
    "\n",
    "df.to_excel('pandas_to_excel4.xlsx')"
   ]
  },
  {
   "cell_type": "code",
   "execution_count": 72,
   "id": "8beae10e-d18c-4ca6-8aed-9be45c0f5256",
   "metadata": {},
   "outputs": [
    {
     "name": "stdout",
     "output_type": "stream",
     "text": [
      "   Unnamed: 0.1 Unnamed: 0    a    b    c\n",
      "0             1        two    1   22   32\n",
      "1             0        one   11   21   31\n",
      "2             1       five   12  220  320\n",
      "3             0       four  110  210  310\n",
      "4             2        six  310  320  330\n",
      "5             2      three  315   32   33\n",
      "['Unnamed: 0.1', 'Unnamed: 0', 'a', 'b', 'c']\n",
      "6\n"
     ]
    }
   ],
   "source": [
    "df=pd.read_excel(\"pandas_to_excel4.xlsx\")\n",
    "print(df)\n",
    "print(list(df))\n",
    "print(format(len(df)))\n"
   ]
  },
  {
   "cell_type": "code",
   "execution_count": null,
   "id": "84102e7f-a5df-46f6-8f55-3605eee4351a",
   "metadata": {},
   "outputs": [],
   "source": []
  }
 ],
 "metadata": {
  "kernelspec": {
   "display_name": "Python 3 (ipykernel)",
   "language": "python",
   "name": "python3"
  },
  "language_info": {
   "codemirror_mode": {
    "name": "ipython",
    "version": 3
   },
   "file_extension": ".py",
   "mimetype": "text/x-python",
   "name": "python",
   "nbconvert_exporter": "python",
   "pygments_lexer": "ipython3",
   "version": "3.12.4"
  }
 },
 "nbformat": 4,
 "nbformat_minor": 5
}
