{
 "cells": [
  {
   "cell_type": "code",
   "execution_count": 9,
   "id": "fc0839a1-302b-4068-8697-555aa1dba1d9",
   "metadata": {},
   "outputs": [
    {
     "name": "stdout",
     "output_type": "stream",
     "text": [
      "Original DataFrame:\n",
      "       Name  Age Gender Marks\n",
      "0      Jai   17      M    90\n",
      "1   Princi   17      F    76\n",
      "2   Gaurav   18      M   NaN\n",
      "3     Anuj   17      M    74\n",
      "4     Ravi   18     M!    65\n",
      "5  Natasha   17      F   NaN\n",
      "6     Riya   17      F    71\n",
      "\n",
      "Replacing NaN with Average marks:\n",
      "       Name  Age Gender  Marks\n",
      "0      Jai   17      M   90.0\n",
      "1   Princi   17      F   76.0\n",
      "2   Gaurav   18      M   75.2\n",
      "3     Anuj   17      M   74.0\n",
      "4     Ravi   18     M!   65.0\n",
      "5  Natasha   17      F   75.2\n",
      "6     Riya   17      F   71.0\n"
     ]
    },
    {
     "name": "stderr",
     "output_type": "stream",
     "text": [
      "C:\\Users\\Tcs\\AppData\\Local\\Temp\\ipykernel_13704\\2050950207.py:18: FutureWarning: Downcasting behavior in `replace` is deprecated and will be removed in a future version. To retain the old behavior, explicitly call `result.infer_objects(copy=False)`. To opt-in to the future behavior, set `pd.set_option('future.no_silent_downcasting', True)`\n",
      "  df = df.replace(to_replace=\"NaN\",value=avg)\n"
     ]
    }
   ],
   "source": [
    "import pandas as pd\n",
    "data = {'Name': ['Jai', 'Princi', 'Gaurav',\n",
    "'Anuj', 'Ravi', 'Natasha', 'Riya'],\n",
    "'Age': [17, 17, 18, 17, 18, 17, 17],\n",
    "'Gender': ['M', 'F','M','M','M!','F','F'],\n",
    "'Marks': [90, 76, 'NaN', 74, 65, 'NaN', 71]}\n",
    "\n",
    "df = pd.DataFrame(data)\n",
    "print(\"Original DataFrame:\\n\",df)\n",
    "c=avg=0\n",
    "\n",
    "for ele in df['Marks']:\n",
    "    if str(ele).isnumeric():\n",
    "        c+=1\n",
    "        avg += ele\n",
    "avg /=c\n",
    "\n",
    "df = df.replace(to_replace=\"NaN\",value=avg)\n",
    "print(\"\\nReplacing NaN with Average marks:\\n\",df)"
   ]
  },
  {
   "cell_type": "code",
   "execution_count": 11,
   "id": "549a500e-9cc8-4767-829f-df292cf75df7",
   "metadata": {},
   "outputs": [
    {
     "name": "stdout",
     "output_type": "stream",
     "text": [
      "\n",
      "Filtering and Dropping functions:\n",
      "       Name Gender  Marks\n",
      "0      Jai      M   90.0\n",
      "1   Princi      F   76.0\n",
      "2   Gaurav      M   75.2\n",
      "5  Natasha      F   75.2\n"
     ]
    }
   ],
   "source": [
    "df = df[df['Marks'] >= 75]\n",
    "df = df.drop(['Age'], axis=1)\n",
    "print(\"\\nFiltering and Dropping functions:\\n\",df)"
   ]
  },
  {
   "cell_type": "code",
   "execution_count": 15,
   "id": "d06fcb62-dce8-4ce7-a300-3faa0d81fb22",
   "metadata": {},
   "outputs": [
    {
     "name": "stdout",
     "output_type": "stream",
     "text": [
      "\n",
      "Original DataFrame 1:\n",
      "      Name subject_id  Marks _scored\n",
      "1    Alex       sub1             98\n",
      "2     Amy       sub2             90\n",
      "3   Allen       sub4             87\n",
      "4   Alice       sub6             69\n",
      "5  Ayoung       sub5             78\n",
      "\n",
      "Original DataFrame 2:\n",
      "     Name subject_id  Marks_scored\n",
      "1  Billy       sub2            89\n",
      "2  Brian       sub4            80\n",
      "3   Bran       sub3            79\n",
      "4  Bryce       sub6            97\n",
      "5  Betty       sub5            88\n",
      "\n",
      "Concatenated DataFrame using cancat function:\n",
      "      Name subject_id  Marks _scored  Marks_scored\n",
      "1    Alex       sub1           98.0           NaN\n",
      "2     Amy       sub2           90.0           NaN\n",
      "3   Allen       sub4           87.0           NaN\n",
      "4   Alice       sub6           69.0           NaN\n",
      "5  Ayoung       sub5           78.0           NaN\n",
      "1   Billy       sub2            NaN          89.0\n",
      "2   Brian       sub4            NaN          80.0\n",
      "3    Bran       sub3            NaN          79.0\n",
      "4   Bryce       sub6            NaN          97.0\n",
      "5   Betty       sub5            NaN          88.0\n"
     ]
    }
   ],
   "source": [
    "one = pd.DataFrame({\n",
    "'Name': ['Alex', 'Amy', 'Allen', 'Alice', 'Ayoung'],\n",
    "'subject_id':['sub1','sub2','sub4','sub6','sub5'],\n",
    "'Marks _scored':[98,90,87,69,78]},\n",
    "index=[1,2,3,4,5])\n",
    "\n",
    "two = pd.DataFrame({\n",
    "'Name': ['Billy', 'Brian', 'Bran', 'Bryce', 'Betty'],\n",
    "'subject_id':['sub2','sub4','sub3','sub6','sub5'],\n",
    "'Marks_scored':[89,80,79,97,88]},\n",
    "index=[1,2,3,4,5])\n",
    "\n",
    "print(\"\\nOriginal DataFrame 1:\\n\",one)\n",
    "\n",
    "print(\"\\nOriginal DataFrame 2:\\n\",two)\n",
    "\n",
    "print(\"\\nConcatenated DataFrame using cancat function:\\n\", pd.concat([one,two]))"
   ]
  },
  {
   "cell_type": "code",
   "execution_count": null,
   "id": "f6e810f5-9f89-4286-ab6d-66d4e7ec20c4",
   "metadata": {},
   "outputs": [],
   "source": []
  },
  {
   "cell_type": "code",
   "execution_count": null,
   "id": "2970e080-0201-4c94-a437-4c77f38183ce",
   "metadata": {},
   "outputs": [],
   "source": []
  }
 ],
 "metadata": {
  "kernelspec": {
   "display_name": "Python 3 (ipykernel)",
   "language": "python",
   "name": "python3"
  },
  "language_info": {
   "codemirror_mode": {
    "name": "ipython",
    "version": 3
   },
   "file_extension": ".py",
   "mimetype": "text/x-python",
   "name": "python",
   "nbconvert_exporter": "python",
   "pygments_lexer": "ipython3",
   "version": "3.12.4"
  }
 },
 "nbformat": 4,
 "nbformat_minor": 5
}
