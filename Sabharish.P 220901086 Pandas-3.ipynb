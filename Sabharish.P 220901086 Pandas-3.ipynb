{
 "cells": [
  {
   "cell_type": "code",
   "execution_count": 1,
   "id": "52afbaf2",
   "metadata": {},
   "outputs": [],
   "source": [
    "import pandas as pd\n",
    "import numpy as np"
   ]
  },
  {
   "cell_type": "code",
   "execution_count": 2,
   "id": "362db7f5",
   "metadata": {},
   "outputs": [
    {
     "name": "stdout",
     "output_type": "stream",
     "text": [
      "0    S\n",
      "1    a\n",
      "2    b\n",
      "3    h\n",
      "4    a\n",
      "5    r\n",
      "6    i\n",
      "7    s\n",
      "8    h\n",
      "dtype: object\n"
     ]
    }
   ],
   "source": [
    "arr = np.array(['S','a','b','h','a','r','i','s','h'])\n",
    "a = pd.Series(arr)\n",
    "print(a)"
   ]
  },
  {
   "cell_type": "code",
   "execution_count": 8,
   "id": "0d7ac15a",
   "metadata": {},
   "outputs": [
    {
     "name": "stdout",
     "output_type": "stream",
     "text": [
      "a    6.2\n",
      "b    2.0\n",
      "c    4.2\n",
      "dtype: float64\n"
     ]
    }
   ],
   "source": [
    "ar={'a':6.2,'b':2.,'c':4.2}\n",
    "b = pd.Series(ar)\n",
    "print (b)\n"
   ]
  },
  {
   "cell_type": "code",
   "execution_count": 11,
   "id": "6ea05e42",
   "metadata": {},
   "outputs": [
    {
     "name": "stdout",
     "output_type": "stream",
     "text": [
      "0    4\n",
      "1    4\n",
      "3    4\n",
      "dtype: int64\n"
     ]
    }
   ],
   "source": [
    "x= pd.Series(4,index=([0, 1, 3]))\n",
    "print (x)"
   ]
  },
  {
   "cell_type": "code",
   "execution_count": 14,
   "id": "56c93938",
   "metadata": {},
   "outputs": [
    {
     "name": "stdout",
     "output_type": "stream",
     "text": [
      "s    90\n",
      "a    12\n",
      "b    62\n",
      "b    73\n",
      "dtype: int64\n"
     ]
    }
   ],
   "source": [
    "x= pd.Series([90,12,62,73],index = ['s','a','b','b'])\n",
    "print (x)"
   ]
  },
  {
   "cell_type": "code",
   "execution_count": 15,
   "id": "1c94fca6",
   "metadata": {},
   "outputs": [
    {
     "name": "stdout",
     "output_type": "stream",
     "text": [
      "\n",
      " a series:\n",
      " 0    7\n",
      "1    5\n",
      "2    2\n",
      "3    6\n",
      "dtype: int64\n",
      "\n",
      "Index: \n",
      " RangeIndex(start=0, stop=4, step=1)\n",
      "\n",
      "Values: \n",
      " [7 5 2 6]\n",
      "\n",
      "Shape:  (4,)\n",
      "\n",
      "Dimension:  1\n",
      "\n",
      "Size:  4\n"
     ]
    }
   ],
   "source": [
    "a=pd.Series(data=[7,5,2,6])\n",
    "print(\"\\n a series:\\n\",a)\n",
    "print(\"\\nIndex: \\n\",a.index)\n",
    "print(\"\\nValues: \\n\",a.values)\n",
    "print(\"\\nShape: \",a.shape)\n",
    "print(\"\\nDimension: \",a.ndim)\n",
    "print(\"\\nSize: \",a.size)"
   ]
  },
  {
   "cell_type": "code",
   "execution_count": 19,
   "id": "442b0c37",
   "metadata": {},
   "outputs": [
    {
     "name": "stdout",
     "output_type": "stream",
     "text": [
      "\n",
      " a series:\n",
      " 0    [7, 5, 2, 6]\n",
      "1    [2, 3, 8, 6]\n",
      "dtype: object\n",
      "\n",
      "Index: \n",
      " RangeIndex(start=0, stop=2, step=1)\n",
      "\n",
      "Values: \n",
      " [list([7, 5, 2, 6]) list([2, 3, 8, 6])]\n",
      "\n",
      "Shape:  (2,)\n",
      "\n",
      "Dimension:  1\n",
      "\n",
      "Size:  2\n"
     ]
    }
   ],
   "source": [
    "a=pd.Series(data=([[7,5,2,6],[2,3,8,6]]))\n",
    "print(\"\\n a series:\\n\",a)\n",
    "print(\"\\nIndex: \\n\",a.index)\n",
    "print(\"\\nValues: \\n\",a.values)\n",
    "print(\"\\nShape: \",a.shape)\n",
    "print(\"\\nDimension: \",a.ndim)\n",
    "print(\"\\nSize: \",a.size)"
   ]
  },
  {
   "cell_type": "code",
   "execution_count": null,
   "id": "606a2f7f",
   "metadata": {},
   "outputs": [],
   "source": []
  }
 ],
 "metadata": {
  "kernelspec": {
   "display_name": "Python 3 (ipykernel)",
   "language": "python",
   "name": "python3"
  },
  "language_info": {
   "codemirror_mode": {
    "name": "ipython",
    "version": 3
   },
   "file_extension": ".py",
   "mimetype": "text/x-python",
   "name": "python",
   "nbconvert_exporter": "python",
   "pygments_lexer": "ipython3",
   "version": "3.9.12"
  }
 },
 "nbformat": 4,
 "nbformat_minor": 5
}
