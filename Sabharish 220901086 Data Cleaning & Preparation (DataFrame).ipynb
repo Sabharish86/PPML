{
 "cells": [
  {
   "cell_type": "code",
   "execution_count": 15,
   "id": "67adbef4-d82b-4266-bfb8-74ecfd568a02",
   "metadata": {},
   "outputs": [
    {
     "name": "stdout",
     "output_type": "stream",
     "text": [
      "Original DataFrame with NaN\n",
      "         one       two     three\n",
      "a  1.135193  1.538822 -0.536901\n",
      "b       NaN       NaN       NaN\n",
      "c  0.300265  0.012413 -0.406178\n",
      "d       NaN       NaN       NaN\n",
      "e  0.958148  1.194791 -1.199914\n",
      "f  0.379659  0.608538  0.348908\n",
      "g       NaN       NaN       NaN\n",
      "h -0.430468  1.823465  0.317608\n",
      "\n",
      "\n",
      "Dropped DataFrame\n",
      "         one       two     three\n",
      "a  1.135193  1.538822 -0.536901\n",
      "c  0.300265  0.012413 -0.406178\n",
      "e  0.958148  1.194791 -1.199914\n",
      "f  0.379659  0.608538  0.348908\n",
      "h -0.430468  1.823465  0.317608\n",
      "\n",
      "\n"
     ]
    }
   ],
   "source": [
    "import pandas as pd\n",
    "import numpy as np\n",
    "df = pd.DataFrame(np.random.randn(5, 3), index=['a','c', 'e', 'f',\n",
    "'h'],columns=['one', 'two', 'three'])\n",
    "df = df.reindex(['a', 'b', 'c', 'd','e', 'f', 'g', 'h'])\n",
    "print(\"Original DataFrame with NaN\\n\",df)\n",
    "print(\"\\n\")\n",
    "print(\"Dropped DataFrame\\n\",df.dropna())\n",
    "print(\"\\n\")"
   ]
  },
  {
   "cell_type": "code",
   "execution_count": 17,
   "id": "b88ea85f-0ce1-478b-885f-2a74eb83a192",
   "metadata": {},
   "outputs": [
    {
     "name": "stdout",
     "output_type": "stream",
     "text": [
      "Original DataFrame:\n",
      "         one       two     three\n",
      "a -0.187156  0.830237 -0.545949\n",
      "b       NaN       NaN       NaN\n",
      "c -0.158590 -0.785366  0.782477\n",
      "\n",
      "\n",
      "NaN replaced with '0:\n",
      "\n",
      "        one       two     three\n",
      "a -0.187156  0.830237 -0.545949\n",
      "b  0.000000  0.000000  0.000000\n",
      "c -0.158590 -0.785366  0.782477\n"
     ]
    }
   ],
   "source": [
    "df = pd.DataFrame(np.random.randn(3, 3), index=['a', 'c', 'e'],columns=['one',\n",
    "'two', 'three'])\n",
    "df = df.reindex(['a', 'b', 'c'])\n",
    "print (\"Original DataFrame:\\n\",df)\n",
    "print(\"\\n\")\n",
    "print (\"NaN replaced with '0:\\n\")\n",
    "print(df.fillna(0))"
   ]
  },
  {
   "cell_type": "code",
   "execution_count": 19,
   "id": "efa96aab-996f-4cc6-8cf1-7b5fc2af3813",
   "metadata": {},
   "outputs": [
    {
     "name": "stdout",
     "output_type": "stream",
     "text": [
      "\n",
      "Original DataFrame:\n",
      "     one   two\n",
      "0    10  1000\n",
      "1    20     0\n",
      "2    30    30\n",
      "3    40    40\n",
      "4    50    50\n",
      "5  2000    60\n",
      "\n",
      " DataFrame with replaced values:\n",
      "\n",
      "   one  two\n",
      "0   10   10\n",
      "1   20  100\n",
      "2   30   30\n",
      "3  400  400\n",
      "4   50   50\n",
      "5   60   60\n"
     ]
    }
   ],
   "source": [
    "df = pd.DataFrame({'one':[10,20,30,40,50,2000],\n",
    "'two':[1000,0,30,40,50,60]})\n",
    "print(\"\\nOriginal DataFrame:\\n\",df)\n",
    "print(\"\\n DataFrame with replaced values:\\n\")\n",
    "print(df.replace({1000:10,2000:60,40:400,0:100}))\n"
   ]
  },
  {
   "cell_type": "code",
   "execution_count": 25,
   "id": "811b3a84-31d2-4316-bb77-133a72f21749",
   "metadata": {},
   "outputs": [
    {
     "name": "stdout",
     "output_type": "stream",
     "text": [
      "\n",
      "Original DataFrame:\n",
      "         one       two     three\n",
      "a -0.600818 -0.359670 -1.026804\n",
      "b       NaN       NaN       NaN\n",
      "c -1.248441 -0.702213  2.464944\n",
      "d       NaN       NaN       NaN\n",
      "e  0.080338 -0.179948  1.906485\n",
      "f  0.339817 -0.667478 -0.437330\n",
      "g       NaN       NaN       NaN\n",
      "h  0.196184 -0.633897  0.273754\n",
      "\n",
      "Nan- with True fill:\n",
      "\n",
      "a    False\n",
      "b     True\n",
      "c    False\n",
      "d     True\n",
      "e    False\n",
      "f    False\n",
      "g     True\n",
      "h    False\n",
      "Name: one, dtype: bool\n"
     ]
    }
   ],
   "source": [
    "df = pd.DataFrame(np.random.randn(5, 3), index=['a', 'c', 'e', 'f','h'],columns=['one', 'two', 'three'])\n",
    "df = df.reindex(['a', 'b', 'c', 'd', 'e', 'f', 'g', 'h'])\n",
    "print(\"\\nOriginal DataFrame:\\n\",df)\n",
    "print(\"\\nNan- with True fill:\\n\")\n",
    "print(df['one'].isnull())"
   ]
  },
  {
   "cell_type": "code",
   "execution_count": 33,
   "id": "02b7fcf9-8789-4e3d-ab74-b277762b81fe",
   "metadata": {},
   "outputs": [
    {
     "name": "stdout",
     "output_type": "stream",
     "text": [
      "\n",
      "Original DataFrame:\n",
      "         one       two     three\n",
      "a  1.553240  2.168603  0.891752\n",
      "b       NaN       NaN       NaN\n",
      "c -0.160149  0.094253  0.449494\n",
      "d       NaN       NaN       NaN\n",
      "e  0.645816  0.951519 -0.913619\n",
      "f -0.256106  0.479013  0.591277\n",
      "g       NaN       NaN       NaN\n",
      "h -1.665731  0.613339  0.423724\n",
      "\n",
      "NaN - Filled with Forward values:\n",
      "\n",
      "        one       two     three\n",
      "a  1.553240  2.168603  0.891752\n",
      "b  1.553240  2.168603  0.891752\n",
      "c -0.160149  0.094253  0.449494\n",
      "d -0.160149  0.094253  0.449494\n",
      "e  0.645816  0.951519 -0.913619\n",
      "f -0.256106  0.479013  0.591277\n",
      "g -0.256106  0.479013  0.591277\n",
      "h -1.665731  0.613339  0.423724\n",
      "\n",
      "NaN - Filled with Background values:\n",
      "\n",
      "        one       two     three\n",
      "a  1.553240  2.168603  0.891752\n",
      "b -0.160149  0.094253  0.449494\n",
      "c -0.160149  0.094253  0.449494\n",
      "d  0.645816  0.951519 -0.913619\n",
      "e  0.645816  0.951519 -0.913619\n",
      "f -0.256106  0.479013  0.591277\n",
      "g -1.665731  0.613339  0.423724\n",
      "h -1.665731  0.613339  0.423724\n"
     ]
    },
    {
     "name": "stderr",
     "output_type": "stream",
     "text": [
      "C:\\Users\\Tcs\\AppData\\Local\\Temp\\ipykernel_9116\\67156375.py:5: FutureWarning: DataFrame.fillna with 'method' is deprecated and will raise in a future version. Use obj.ffill() or obj.bfill() instead.\n",
      "  print (df.fillna(method='pad'))\n",
      "C:\\Users\\Tcs\\AppData\\Local\\Temp\\ipykernel_9116\\67156375.py:7: FutureWarning: DataFrame.fillna with 'method' is deprecated and will raise in a future version. Use obj.ffill() or obj.bfill() instead.\n",
      "  print (df.fillna(method='bfill'))\n"
     ]
    }
   ],
   "source": [
    "df = pd.DataFrame(np.random.randn(5, 3), index=['a', 'c','e', 'f','h'],columns=['one', 'two', 'three'])\n",
    "df = df.reindex(('a', 'b', 'c', 'd', 'e', 'f', 'g', 'h'))\n",
    "print(\"\\nOriginal DataFrame:\\n\",df)\n",
    "print(\"\\nNaN - Filled with Forward values:\\n\")\n",
    "print (df.fillna(method='pad'))\n",
    "print(\"\\nNaN - Filled with Background values:\\n\")\n",
    "print (df.fillna(method='bfill'))"
   ]
  },
  {
   "cell_type": "code",
   "execution_count": null,
   "id": "3492d5ae-3d19-447b-9a2f-e4e1496475e2",
   "metadata": {},
   "outputs": [],
   "source": []
  }
 ],
 "metadata": {
  "kernelspec": {
   "display_name": "Python 3 (ipykernel)",
   "language": "python",
   "name": "python3"
  },
  "language_info": {
   "codemirror_mode": {
    "name": "ipython",
    "version": 3
   },
   "file_extension": ".py",
   "mimetype": "text/x-python",
   "name": "python",
   "nbconvert_exporter": "python",
   "pygments_lexer": "ipython3",
   "version": "3.12.4"
  }
 },
 "nbformat": 4,
 "nbformat_minor": 5
}
