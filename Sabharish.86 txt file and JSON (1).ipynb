{
 "cells": [
  {
   "cell_type": "code",
   "execution_count": 23,
   "id": "259556b2-2806-4171-a5ee-08695faa107c",
   "metadata": {},
   "outputs": [],
   "source": [
    "f=open(\"sabb.txt\", 'w')\n",
    "f.write(\"sabb \")\n",
    "f.write(\"is a \")\n",
    "f.write(\"hero \\n\")\n",
    "f.close()"
   ]
  },
  {
   "cell_type": "code",
   "execution_count": 55,
   "id": "6448a3e9-e576-4d66-af7c-63d5f7089638",
   "metadata": {},
   "outputs": [
    {
     "name": "stdout",
     "output_type": "stream",
     "text": [
      "sabb is a hero \n",
      "\n",
      "Sabb hero of world\n",
      "\n"
     ]
    }
   ],
   "source": [
    "k=open(\"sabb.txt\", 'r')\n",
    "for i in range(0,2):\n",
    "    print(k.readline())\n",
    "k.close()"
   ]
  },
  {
   "cell_type": "code",
   "execution_count": 25,
   "id": "41ce8624-865a-45a3-a57f-1eeae38310a5",
   "metadata": {},
   "outputs": [],
   "source": [
    "m=open(\"sabb.txt\", 'a')\n",
    "m.write(\"Sabb hero \")\n",
    "m.write(\"of world\\n\")\n",
    "\n",
    "m.close()"
   ]
  },
  {
   "cell_type": "code",
   "execution_count": 37,
   "id": "b3c27e15-cbaf-4e2e-8e5a-13e41e4980ce",
   "metadata": {},
   "outputs": [
    {
     "name": "stdout",
     "output_type": "stream",
     "text": [
      "sabb is a hero \n",
      "Sabb hero of world\n",
      "\n",
      "['sabb is a hero \\n', 'Sabb hero of world\\n']\n"
     ]
    }
   ],
   "source": [
    "p=open(\"sabb.txt\", 'r')\n",
    "print(p.read())\n",
    "\n",
    "p.close()\n",
    "\n",
    "with open(\"sabb.txt\", 'r') as file:\n",
    "    l = file.readlines()\n",
    "\n",
    "print(l)"
   ]
  },
  {
   "cell_type": "code",
   "execution_count": 43,
   "id": "e2dfd94d-ace4-408f-b861-97393cc0be84",
   "metadata": {},
   "outputs": [
    {
     "name": "stdout",
     "output_type": "stream",
     "text": [
      "Sabb\n"
     ]
    }
   ],
   "source": [
    "import json\n",
    "x= '{\"name\":\"Sabb\", \"age\":19, \"city\":\"madras\"}'\n",
    "y = json.loads(x)\n",
    "print(y[\"name\"])"
   ]
  },
  {
   "cell_type": "code",
   "execution_count": 47,
   "id": "86d92b87-2f44-42bc-bd1f-e1003b180579",
   "metadata": {},
   "outputs": [
    {
     "name": "stdout",
     "output_type": "stream",
     "text": [
      "{\"name\": \"SABB\", \"age\": 19, \"city\": \"Kaveripattinam\"}\n"
     ]
    }
   ],
   "source": [
    "x={\n",
    "\"name\": \"SABB\",\n",
    "\"age\": 19,\n",
    "\"city\": \"Kaveripattinam\"\n",
    "}\n",
    "\f",
    "\n",
    "y = json.dumps(x)\n",
    "print(y)"
   ]
  },
  {
   "cell_type": "code",
   "execution_count": 49,
   "id": "e1d548de-ba09-459e-bd56-9ee43c89e5a6",
   "metadata": {},
   "outputs": [
    {
     "name": "stdout",
     "output_type": "stream",
     "text": [
      "{\"name\": [\"SABB\", \"PVS\"], \"age\": [19, 18], \"city\": [\"Kaveripattinam\", \"Nagercoil\"]}\n"
     ]
    }
   ],
   "source": [
    "x={\n",
    "\"name\": (\"SABB\",\"PVS\"),\n",
    "\"age\": (19,18),\n",
    "\"city\": (\"Kaveripattinam\",\"Nagercoil\")\n",
    "}\n",
    "\f",
    "\n",
    "y = json.dumps(x)\n",
    "print(y)"
   ]
  },
  {
   "cell_type": "code",
   "execution_count": null,
   "id": "d38b9281-60ad-4ee4-a0e2-0e025e17af5e",
   "metadata": {},
   "outputs": [],
   "source": []
  }
 ],
 "metadata": {
  "kernelspec": {
   "display_name": "Python 3 (ipykernel)",
   "language": "python",
   "name": "python3"
  },
  "language_info": {
   "codemirror_mode": {
    "name": "ipython",
    "version": 3
   },
   "file_extension": ".py",
   "mimetype": "text/x-python",
   "name": "python",
   "nbconvert_exporter": "python",
   "pygments_lexer": "ipython3",
   "version": "3.12.4"
  }
 },
 "nbformat": 4,
 "nbformat_minor": 5
}
