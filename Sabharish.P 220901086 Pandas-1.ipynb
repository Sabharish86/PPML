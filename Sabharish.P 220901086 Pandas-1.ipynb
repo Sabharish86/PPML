{
 "cells": [
  {
   "cell_type": "code",
   "execution_count": 1,
   "id": "83a6bdf4",
   "metadata": {},
   "outputs": [],
   "source": [
    "import numpy as np\n",
    "import pandas as pd"
   ]
  },
  {
   "cell_type": "code",
   "execution_count": 6,
   "id": "8674b3c8",
   "metadata": {},
   "outputs": [],
   "source": [
    "c=pd.Series(['Deadpool','wolverine','lara','tva','victor'])\n",
    "a=pd.Series([123,234,456,678,890])"
   ]
  },
  {
   "cell_type": "code",
   "execution_count": 7,
   "id": "9bd3558e",
   "metadata": {},
   "outputs": [
    {
     "name": "stdout",
     "output_type": "stream",
     "text": [
      "        name  age\n",
      "0   Deadpool  123\n",
      "1  wolverine  234\n",
      "2       lara  456\n",
      "3        tva  678\n",
      "4     victor  890\n"
     ]
    }
   ],
   "source": [
    "f={'name':c,'age':a}\n",
    "d=pd.DataFrame(f)\n",
    "print(d)"
   ]
  },
  {
   "cell_type": "code",
   "execution_count": 8,
   "id": "b6a342d1",
   "metadata": {},
   "outputs": [
    {
     "name": "stdout",
     "output_type": "stream",
     "text": [
      "0     Deadpool\n",
      "1    wolverine\n",
      "2         lara\n",
      "3          tva\n",
      "4       victor\n",
      "Name: name, dtype: object\n",
      "0    123\n",
      "1    234\n",
      "2    456\n",
      "3    678\n",
      "4    890\n",
      "Name: age, dtype: int64\n"
     ]
    }
   ],
   "source": [
    "print(d['name'])\n",
    "print(d['age'])"
   ]
  },
  {
   "cell_type": "code",
   "execution_count": 9,
   "id": "dba0c67c",
   "metadata": {},
   "outputs": [
    {
     "name": "stdout",
     "output_type": "stream",
     "text": [
      "        name  age  cn\n",
      "0   Deadpool  123   1\n",
      "1  wolverine  234   2\n",
      "2       lara  456   3\n",
      "3        tva  678   4\n",
      "4     victor  890   5\n"
     ]
    }
   ],
   "source": [
    "d['cn']=pd.Series([1,2,3,4,5])\n",
    "print(d)"
   ]
  },
  {
   "cell_type": "code",
   "execution_count": 10,
   "id": "168f8400",
   "metadata": {},
   "outputs": [
    {
     "name": "stdout",
     "output_type": "stream",
     "text": [
      "        name  age\n",
      "0   Deadpool  123\n",
      "1  wolverine  234\n",
      "2       lara  456\n",
      "3        tva  678\n",
      "4     victor  890\n"
     ]
    }
   ],
   "source": [
    "del d['cn']\n",
    "print(d)"
   ]
  },
  {
   "cell_type": "code",
   "execution_count": 11,
   "id": "5c641ebf",
   "metadata": {},
   "outputs": [
    {
     "name": "stdout",
     "output_type": "stream",
     "text": [
      "name    tva\n",
      "age     678\n",
      "Name: 3, dtype: object\n"
     ]
    }
   ],
   "source": [
    "print(d.loc[3])"
   ]
  },
  {
   "cell_type": "code",
   "execution_count": 12,
   "id": "3dfcba23",
   "metadata": {},
   "outputs": [
    {
     "name": "stdout",
     "output_type": "stream",
     "text": [
      "   name  age\n",
      "2  lara  456\n",
      "3   tva  678\n"
     ]
    }
   ],
   "source": [
    "print(d[2:4])"
   ]
  },
  {
   "cell_type": "code",
   "execution_count": 15,
   "id": "fb1d5492",
   "metadata": {},
   "outputs": [
    {
     "name": "stdout",
     "output_type": "stream",
     "text": [
      "        name  age\n",
      "0   Deadpool  123\n",
      "1  wolverine  234\n",
      "2       lara  456\n",
      "3        tva  678\n",
      "4     victor  890\n",
      "0     raayan   45\n"
     ]
    },
    {
     "name": "stderr",
     "output_type": "stream",
     "text": [
      "C:\\Users\\Tcs\\AppData\\Local\\Temp\\ipykernel_16104\\2323172074.py:2: FutureWarning: The frame.append method is deprecated and will be removed from pandas in a future version. Use pandas.concat instead.\n",
      "  print(d.append(d2))\n"
     ]
    }
   ],
   "source": [
    "d2=pd.DataFrame([['raayan',45]],columns=['name','age'])\n",
    "print(d.append(d2))"
   ]
  },
  {
   "cell_type": "code",
   "execution_count": 19,
   "id": "e929bb1a",
   "metadata": {},
   "outputs": [
    {
     "name": "stdout",
     "output_type": "stream",
     "text": [
      "        name  age\n",
      "0   Deadpool  123\n",
      "1  wolverine  234\n",
      "2       lara  456\n",
      "4     victor  890\n"
     ]
    }
   ],
   "source": [
    "print(d.drop(3))"
   ]
  },
  {
   "cell_type": "code",
   "execution_count": null,
   "id": "b1df6400",
   "metadata": {},
   "outputs": [],
   "source": []
  },
  {
   "cell_type": "code",
   "execution_count": null,
   "id": "31e1aed2",
   "metadata": {},
   "outputs": [],
   "source": []
  }
 ],
 "metadata": {
  "kernelspec": {
   "display_name": "Python 3 (ipykernel)",
   "language": "python",
   "name": "python3"
  },
  "language_info": {
   "codemirror_mode": {
    "name": "ipython",
    "version": 3
   },
   "file_extension": ".py",
   "mimetype": "text/x-python",
   "name": "python",
   "nbconvert_exporter": "python",
   "pygments_lexer": "ipython3",
   "version": "3.9.12"
  }
 },
 "nbformat": 4,
 "nbformat_minor": 5
}
