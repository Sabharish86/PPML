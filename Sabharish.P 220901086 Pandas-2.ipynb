{
 "cells": [
  {
   "cell_type": "code",
   "execution_count": 1,
   "id": "3488844b",
   "metadata": {},
   "outputs": [],
   "source": [
    "import pandas as pd\n",
    "import numpy as np"
   ]
  },
  {
   "cell_type": "code",
   "execution_count": 3,
   "id": "ad902557",
   "metadata": {},
   "outputs": [
    {
     "name": "stdout",
     "output_type": "stream",
     "text": [
      "   A  B\n",
      "0  2  3\n",
      "1  4  5\n",
      "2  2  3\n",
      "3  4  5\n"
     ]
    }
   ],
   "source": [
    "num=pd.DataFrame([[2,3],[4,5]]*2,columns=['A','B'])\n",
    "print(num)"
   ]
  },
  {
   "cell_type": "code",
   "execution_count": 7,
   "id": "0357dd24",
   "metadata": {},
   "outputs": [
    {
     "name": "stdout",
     "output_type": "stream",
     "text": [
      "          A         B\n",
      "0  1.414214  1.732051\n",
      "1  2.000000  2.236068\n",
      "2  1.414214  1.732051\n",
      "3  2.000000  2.236068\n"
     ]
    }
   ],
   "source": [
    "print(num.apply(np.sqrt))"
   ]
  },
  {
   "cell_type": "code",
   "execution_count": 8,
   "id": "06790e18",
   "metadata": {},
   "outputs": [
    {
     "name": "stdout",
     "output_type": "stream",
     "text": [
      "A    12\n",
      "B    16\n",
      "dtype: int64\n"
     ]
    }
   ],
   "source": [
    "print(num.apply(np.sum,axis=0))"
   ]
  },
  {
   "cell_type": "code",
   "execution_count": 9,
   "id": "24c5422f",
   "metadata": {},
   "outputs": [
    {
     "name": "stdout",
     "output_type": "stream",
     "text": [
      "0    5\n",
      "1    9\n",
      "2    5\n",
      "3    9\n",
      "dtype: int64\n"
     ]
    }
   ],
   "source": [
    "print(num.apply(np.sum,axis=1))"
   ]
  },
  {
   "cell_type": "code",
   "execution_count": 15,
   "id": "3a53f469",
   "metadata": {},
   "outputs": [
    {
     "name": "stdout",
     "output_type": "stream",
     "text": [
      "   A  B  c\n",
      "0  2  3  4\n",
      "1  5  6  7\n",
      "2  8  9  0\n",
      "      A   B   c\n",
      "min   2   3   0\n",
      "max   8   9   7\n",
      "sum  15  18  11\n"
     ]
    }
   ],
   "source": [
    "num1=pd.DataFrame([[2,3,4],[5,6,7],[8,9,0]],columns=['A','B','c'])\n",
    "print(num1)\n",
    "print(num1.agg(['min','max','sum']))"
   ]
  },
  {
   "cell_type": "code",
   "execution_count": 16,
   "id": "1c03da6c",
   "metadata": {},
   "outputs": [
    {
     "name": "stdout",
     "output_type": "stream",
     "text": [
      "   A  B  C\n",
      "0  2  3  6\n",
      "1  4  5  7\n"
     ]
    }
   ],
   "source": [
    "num=pd.DataFrame([[2,3],[4,5]],columns=['A','B'])\n",
    "num['C']=[6,7]\n",
    "print(num)"
   ]
  },
  {
   "cell_type": "code",
   "execution_count": 19,
   "id": "dd23301b",
   "metadata": {},
   "outputs": [
    {
     "name": "stdout",
     "output_type": "stream",
     "text": [
      "   A  B  C  S\n",
      "0  2  3  6  m\n",
      "1  4  5  7  f\n"
     ]
    }
   ],
   "source": [
    "d=num.assign(S=['m','f'])\n",
    "print(d)"
   ]
  },
  {
   "cell_type": "code",
   "execution_count": 20,
   "id": "a78086ce",
   "metadata": {},
   "outputs": [
    {
     "name": "stdout",
     "output_type": "stream",
     "text": [
      "       col1      col2\n",
      "1 -1.090809  0.525011\n",
      "3  0.090341 -1.440954\n",
      "0 -0.130022  1.555795\n",
      "2  1.562291  0.425491\n",
      "4  0.404593 -0.144917\n",
      "       col1      col2\n",
      "0 -0.130022  1.555795\n",
      "1 -1.090809  0.525011\n",
      "2  1.562291  0.425491\n",
      "3  0.090341 -1.440954\n",
      "4  0.404593 -0.144917\n",
      "       col1      col2\n",
      "3  0.090341 -1.440954\n",
      "4  0.404593 -0.144917\n",
      "2  1.562291  0.425491\n",
      "1 -1.090809  0.525011\n",
      "0 -0.130022  1.555795\n"
     ]
    }
   ],
   "source": [
    "num2=pd.DataFrame(np.random.randn(5,2),index=[1,3,0,2,4],columns = ['col1','col2'])\n",
    "print(num2)\n",
    "num3=num2.sort_index()\n",
    "print(num3)\n",
    "num4= num2.sort_values(by='col2')\n",
    "print(num4)"
   ]
  },
  {
   "cell_type": "code",
   "execution_count": 22,
   "id": "7ebb1f25",
   "metadata": {},
   "outputs": [
    {
     "name": "stdout",
     "output_type": "stream",
     "text": [
      "   id       Name   sub\n",
      "0   1   Deadpool  sub1\n",
      "1   2  wolverine  sub2\n",
      "2   3       lara  sub4\n",
      "3   4        tva  sub6\n",
      "4   5     victor  sub5\n",
      "   id   Name   sub\n",
      "0   1  raaya  sub2\n",
      "1   2  suraa  sub4\n",
      "2   3  varaa  sub3\n",
      "3   4  poraa  sub6\n",
      "4   5   vada  sub5\n",
      "   id_x     Name_x   sub  id_y Name_y\n",
      "0     2  wolverine  sub2     1  raaya\n",
      "1     3       lara  sub4     2  suraa\n",
      "2     4        tva  sub6     4  poraa\n",
      "3     5     victor  sub5     5   vada\n"
     ]
    }
   ],
   "source": [
    "l= pd.DataFrame({\n",
    "'id':[1,2,3,4,5],\n",
    "'Name': ['Deadpool','wolverine','lara','tva','victor'],\n",
    "'sub':['sub1','sub2','sub4', 'sub6','sub5']})\n",
    "r= pd.DataFrame({\n",
    "'id':[1,2,3,4,5],\n",
    "'Name': ['raaya', 'suraa','varaa','poraa','vada'],\n",
    "'sub':['sub2','sub4','sub3','sub6','sub5']})\n",
    "print(l)\n",
    "print(r)\n",
    "print(pd.merge(l,r,on='sub'))"
   ]
  },
  {
   "cell_type": "code",
   "execution_count": null,
   "id": "32ab34fc",
   "metadata": {},
   "outputs": [],
   "source": []
  }
 ],
 "metadata": {
  "kernelspec": {
   "display_name": "Python 3 (ipykernel)",
   "language": "python",
   "name": "python3"
  },
  "language_info": {
   "codemirror_mode": {
    "name": "ipython",
    "version": 3
   },
   "file_extension": ".py",
   "mimetype": "text/x-python",
   "name": "python",
   "nbconvert_exporter": "python",
   "pygments_lexer": "ipython3",
   "version": "3.9.12"
  }
 },
 "nbformat": 4,
 "nbformat_minor": 5
}
