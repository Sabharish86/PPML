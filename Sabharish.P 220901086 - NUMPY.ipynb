{
 "cells": [
  {
   "cell_type": "code",
   "execution_count": 4,
   "id": "d1b420ee",
   "metadata": {},
   "outputs": [
    {
     "name": "stdout",
     "output_type": "stream",
     "text": [
      "[7 5 2 6 2 3]\n"
     ]
    }
   ],
   "source": [
    "import numpy as np\n",
    "ar=np.array([7,5,2,6,2,3])\n",
    "print(ar)"
   ]
  },
  {
   "cell_type": "code",
   "execution_count": 3,
   "id": "30348a37",
   "metadata": {},
   "outputs": [
    {
     "name": "stdout",
     "output_type": "stream",
     "text": [
      "[[7 5]\n",
      " [2 6]\n",
      " [2 3]]\n"
     ]
    }
   ],
   "source": [
    "import numpy as np\n",
    "ar=np.array([[7,5],[2,6],[2,3]])\n",
    "print(ar)"
   ]
  },
  {
   "cell_type": "code",
   "execution_count": 5,
   "id": "3f39beae",
   "metadata": {},
   "outputs": [
    {
     "name": "stdout",
     "output_type": "stream",
     "text": [
      "[[0. 0. 0.]\n",
      " [0. 0. 0.]]\n"
     ]
    }
   ],
   "source": [
    "import numpy as np\n",
    "ar=np.zeros((2,3))\n",
    "print(ar)"
   ]
  },
  {
   "cell_type": "code",
   "execution_count": 5,
   "id": "2dac19d5",
   "metadata": {},
   "outputs": [
    {
     "name": "stdout",
     "output_type": "stream",
     "text": [
      "The elements in the array:\n",
      " [[0. 0. 0.]\n",
      " [0. 0. 0.]]\n"
     ]
    }
   ],
   "source": [
    "import numpy as np\n",
    "ar=np.zeros((2,3))\n",
    "print(\"The elements in the array:\\n\",ar)"
   ]
  },
  {
   "cell_type": "code",
   "execution_count": 10,
   "id": "fd570ccf",
   "metadata": {},
   "outputs": [
    {
     "name": "stdout",
     "output_type": "stream",
     "text": [
      "[[6 6 6]\n",
      " [6 6 6]]\n"
     ]
    }
   ],
   "source": [
    "import numpy as np\n",
    "ar=np.full((2,3),6)\n",
    "print(ar)"
   ]
  },
  {
   "cell_type": "code",
   "execution_count": 13,
   "id": "c2fda6b7",
   "metadata": {},
   "outputs": [
    {
     "name": "stdout",
     "output_type": "stream",
     "text": [
      "[[0.58646215 0.56363313 0.92940745]\n",
      " [0.53476203 0.13391371 0.15427552]]\n"
     ]
    }
   ],
   "source": [
    "import numpy as np\n",
    "ar=np.random.random((2,3))\n",
    "print(ar)"
   ]
  },
  {
   "cell_type": "code",
   "execution_count": 15,
   "id": "9675d1f4",
   "metadata": {},
   "outputs": [
    {
     "name": "stdout",
     "output_type": "stream",
     "text": [
      "[ 2  4  6  8 10 12 14 16 18]\n"
     ]
    }
   ],
   "source": [
    "import numpy as np\n",
    "ar=np.arange(2,20,2)\n",
    "print(ar)"
   ]
  },
  {
   "cell_type": "code",
   "execution_count": 20,
   "id": "0c9d799c",
   "metadata": {},
   "outputs": [
    {
     "name": "stdout",
     "output_type": "stream",
     "text": [
      "original array: 2\n",
      "[[7 5]\n",
      " [2 6]\n",
      " [2 3]]\n",
      "reshaped array: 2\n",
      "[[7 5 2]\n",
      " [6 2 3]]\n",
      "flattened array: 1\n",
      "[7 5 2 6 2 3]\n"
     ]
    }
   ],
   "source": [
    "import numpy as np\n",
    "ar=np.array([[7,5],[2,6],[2,3]])\n",
    "print(\"original array:\",ar.ndim)\n",
    "print(ar)\n",
    "arr=ar.reshape(2,3)\n",
    "print(\"reshaped array:\",arr.ndim)\n",
    "print(arr)\n",
    "arrr=arr.flatten()\n",
    "print(\"flattened array:\",arrr.ndim)\n",
    "print(arrr)"
   ]
  },
  {
   "cell_type": "code",
   "execution_count": 21,
   "id": "1999085e",
   "metadata": {},
   "outputs": [
    {
     "name": "stdout",
     "output_type": "stream",
     "text": [
      "6\n"
     ]
    }
   ],
   "source": [
    "import numpy as np\n",
    "ar=np.array([[7,5],[2,6],[2,3]])\n",
    "print(ar.size)"
   ]
  },
  {
   "cell_type": "code",
   "execution_count": 22,
   "id": "e0774484",
   "metadata": {},
   "outputs": [
    {
     "name": "stdout",
     "output_type": "stream",
     "text": [
      "(3, 2)\n"
     ]
    }
   ],
   "source": [
    "import numpy as np\n",
    "ar=np.array([[7,5],[2,6],[2,3]])\n",
    "print(ar.shape)"
   ]
  },
  {
   "cell_type": "code",
   "execution_count": 23,
   "id": "3fd6f6d0",
   "metadata": {},
   "outputs": [
    {
     "name": "stdout",
     "output_type": "stream",
     "text": [
      "int32\n"
     ]
    }
   ],
   "source": [
    "import numpy as np\n",
    "ar=np.array([[7,5],[2,6],[2,3]])\n",
    "print(ar.dtype)"
   ]
  },
  {
   "cell_type": "code",
   "execution_count": 24,
   "id": "f96041a1",
   "metadata": {},
   "outputs": [
    {
     "name": "stdout",
     "output_type": "stream",
     "text": [
      "[[7. 5.]\n",
      " [2. 6.]\n",
      " [2. 3.]]\n"
     ]
    }
   ],
   "source": [
    "import numpy as np\n",
    "ar=np.array([[7,5],[2,6],[2,3]])\n",
    "ara=ar.astype('f')\n",
    "print(ara)"
   ]
  },
  {
   "cell_type": "code",
   "execution_count": 27,
   "id": "ff2e3022",
   "metadata": {},
   "outputs": [
    {
     "name": "stdout",
     "output_type": "stream",
     "text": [
      "[[0 0 0]\n",
      " [0 0 0]]\n"
     ]
    }
   ],
   "source": [
    "import numpy as np\n",
    "ar=np.random.random((2,3))\n",
    "print(ar.astype('i'))"
   ]
  },
  {
   "cell_type": "code",
   "execution_count": 29,
   "id": "fbe7635a",
   "metadata": {},
   "outputs": [
    {
     "name": "stdout",
     "output_type": "stream",
     "text": [
      "[7 2 2]\n"
     ]
    }
   ],
   "source": [
    "import numpy as np\n",
    "ar=np.array([7,5,2,6,2,3])\n",
    "print(ar[0:5:2])"
   ]
  },
  {
   "cell_type": "code",
   "execution_count": 32,
   "id": "702e7744",
   "metadata": {},
   "outputs": [
    {
     "name": "stdout",
     "output_type": "stream",
     "text": [
      "[5 8]\n"
     ]
    }
   ],
   "source": [
    "import numpy as np\n",
    "ar=np.array([[7,5,8,9,0],[2,6,4,2,5],[2,3,7,4,5]])\n",
    "print(ar[0,1:3])"
   ]
  },
  {
   "cell_type": "code",
   "execution_count": 33,
   "id": "d37e9827",
   "metadata": {},
   "outputs": [
    {
     "name": "stdout",
     "output_type": "stream",
     "text": [
      "[[6 4 2 5]\n",
      " [3 7 4 5]]\n"
     ]
    }
   ],
   "source": [
    "import numpy as np\n",
    "ar=np.array([[7,5,8,9,0],[2,6,4,2,5],[2,3,7,4,5]])\n",
    "print(ar[1:,1:])"
   ]
  },
  {
   "cell_type": "code",
   "execution_count": 34,
   "id": "68569726",
   "metadata": {},
   "outputs": [
    {
     "name": "stdout",
     "output_type": "stream",
     "text": [
      "[5 6 3]\n"
     ]
    }
   ],
   "source": [
    "import numpy as np\n",
    "ar=np.array([[7,5,8,9,0],[2,6,4,2,5],[2,3,7,4,5]])\n",
    "print(ar[:,1])"
   ]
  },
  {
   "cell_type": "code",
   "execution_count": 3,
   "id": "eb2ddee4",
   "metadata": {},
   "outputs": [
    {
     "name": "stdout",
     "output_type": "stream",
     "text": [
      "{'Name': ['Teodosija', 'Sutton', 'Taneli', 'David', 'Ross'], 'Age': [25, 30, 22, 35, 28], 'Salary': [50000, 60000, 45000, 70000, 55000]}\n"
     ]
    }
   ],
   "source": [
    "import numpy as np\n",
    "import pandas as pd\n",
    "\n",
    "data = {'Name': ['Teodosija', 'Sutton', 'Taneli', 'David', 'Ross'],\n",
    "        'Age': [25, 30, 22, 35, 28],\n",
    "        'Salary': [50000, 60000, 45000, 70000, 55000]}\n",
    "df = pd.DataFrame(data)\n",
    "print(data)"
   ]
  },
  {
   "cell_type": "code",
   "execution_count": 2,
   "id": "e5c89085",
   "metadata": {},
   "outputs": [
    {
     "name": "stdout",
     "output_type": "stream",
     "text": [
      "[8 6 2]\n"
     ]
    }
   ],
   "source": [
    "import numpy as np\n",
    "ar=np.array([[7,5,8,9,0],[2,6,4,2,5],[2,3,7,4,5]])\n",
    "temp=ar[[0,1,2],[2,1,0]]\n",
    "print(temp)"
   ]
  },
  {
   "cell_type": "code",
   "execution_count": 8,
   "id": "b2cfa7fa",
   "metadata": {},
   "outputs": [
    {
     "name": "stdout",
     "output_type": "stream",
     "text": [
      "[7 5 8 6 4 5 3 7 4 5]\n"
     ]
    }
   ],
   "source": [
    "import numpy as np\n",
    "ar=np.array([[7,5,8,1,0],[2,6,4,2,5],[2,3,7,4,5]])\n",
    "c=ar>2\n",
    "t=ar[c]\n",
    "print(t)"
   ]
  },
  {
   "cell_type": "code",
   "execution_count": 9,
   "id": "e073145e",
   "metadata": {},
   "outputs": [
    {
     "name": "stdout",
     "output_type": "stream",
     "text": [
      "[7 8 0]\n"
     ]
    }
   ],
   "source": [
    "import numpy as np\n",
    "ar=np.array([7,5,8,9,0])\n",
    "print(ar[::2])"
   ]
  },
  {
   "cell_type": "code",
   "execution_count": 11,
   "id": "1e355d7b",
   "metadata": {},
   "outputs": [
    {
     "name": "stdout",
     "output_type": "stream",
     "text": [
      "[7 5 8 9 0 2 6 4 2 5]\n"
     ]
    }
   ],
   "source": [
    "import numpy as np\n",
    "ar=np.array([7,5,8,9,0])\n",
    "arr=np.array([2,6,4,2,5])\n",
    "a=np.concatenate((ar,arr))\n",
    "print(a)"
   ]
  },
  {
   "cell_type": "code",
   "execution_count": 12,
   "id": "adb3daf7",
   "metadata": {},
   "outputs": [
    {
     "name": "stdout",
     "output_type": "stream",
     "text": [
      "[7 5 8 9 0 2 6 4 2 5]\n"
     ]
    }
   ],
   "source": [
    "import numpy as np\n",
    "ar=np.array([7,5,8,9,0])\n",
    "arr=np.array([2,6,4,2,5])\n",
    "arrr=np.hstack((ar,arr))\n",
    "print(arrr)"
   ]
  },
  {
   "cell_type": "code",
   "execution_count": 13,
   "id": "714e0a46",
   "metadata": {},
   "outputs": [
    {
     "name": "stdout",
     "output_type": "stream",
     "text": [
      "[[7 5 8 9 0]\n",
      " [2 6 4 2 5]]\n"
     ]
    }
   ],
   "source": [
    "import numpy as np\n",
    "ar=np.array([7,5,8,9,0])\n",
    "arr=np.array([2,6,4,2,5])\n",
    "arrr=np.vstack((ar,arr))\n",
    "print(arrr)"
   ]
  },
  {
   "cell_type": "code",
   "execution_count": 14,
   "id": "d66eac44",
   "metadata": {},
   "outputs": [
    {
     "name": "stdout",
     "output_type": "stream",
     "text": [
      "[[[7 2]\n",
      "  [5 6]\n",
      "  [8 4]\n",
      "  [9 2]\n",
      "  [0 5]]]\n"
     ]
    }
   ],
   "source": [
    "import numpy as np\n",
    "ar=np.array([7,5,8,9,0])\n",
    "arr=np.array([2,6,4,2,5])\n",
    "arrr=np.dstack((ar,arr))\n",
    "print(arrr)"
   ]
  },
  {
   "cell_type": "code",
   "execution_count": 15,
   "id": "19ccd9a7",
   "metadata": {},
   "outputs": [
    {
     "name": "stdout",
     "output_type": "stream",
     "text": [
      "[array([7, 5, 8]), array([9, 0])]\n"
     ]
    }
   ],
   "source": [
    "import numpy as np\n",
    "ar=np.array([7,5,8,9,0])\n",
    "arr=np.array_split(ar,2)\n",
    "print(arr)"
   ]
  },
  {
   "cell_type": "code",
   "execution_count": 17,
   "id": "14d568d6",
   "metadata": {},
   "outputs": [
    {
     "name": "stdout",
     "output_type": "stream",
     "text": [
      "[7 5 8]\n",
      "[9 0]\n"
     ]
    }
   ],
   "source": [
    "import numpy as np\n",
    "ar=np.array([7,5,8,9,0])\n",
    "arr=np.array_split(ar,2)\n",
    "for i in range(0,len(arr)):\n",
    "    print(arr[i])"
   ]
  },
  {
   "cell_type": "code",
   "execution_count": 19,
   "id": "9cea93ab",
   "metadata": {},
   "outputs": [
    {
     "name": "stdout",
     "output_type": "stream",
     "text": [
      "(array([5, 8], dtype=int64),)\n"
     ]
    }
   ],
   "source": [
    "import numpy as np\n",
    "ar=np.array([7,5,8,9,0,2,6,4,2,5])\n",
    "a=np.where(ar==2)\n",
    "print(a)"
   ]
  },
  {
   "cell_type": "code",
   "execution_count": 20,
   "id": "503d5eaf",
   "metadata": {},
   "outputs": [
    {
     "name": "stdout",
     "output_type": "stream",
     "text": [
      "(array([2, 4, 5, 6, 7, 8], dtype=int64),)\n"
     ]
    }
   ],
   "source": [
    "import numpy as np\n",
    "ar=np.array([7,5,8,9,0,2,6,4,2,5])\n",
    "a=np.where(ar%2==0)\n",
    "print(a)"
   ]
  },
  {
   "cell_type": "code",
   "execution_count": 5,
   "id": "6fe9b2f0",
   "metadata": {},
   "outputs": [
    {
     "name": "stdout",
     "output_type": "stream",
     "text": [
      "2\n"
     ]
    }
   ],
   "source": [
    "import numpy as np\n",
    "ar=np.array([0,2,4,5,6,7,8,9,30])\n",
    "a=np.searchsorted(ar,4,side='left')\n",
    "print(a)"
   ]
  },
  {
   "cell_type": "code",
   "execution_count": 14,
   "id": "2df928b8",
   "metadata": {},
   "outputs": [
    {
     "name": "stdout",
     "output_type": "stream",
     "text": [
      "8\n"
     ]
    }
   ],
   "source": [
    "import numpy as np\n",
    "ar=np.array([0,2,4,5,6,7,8,9,30])\n",
    "a=np.searchsorted(ar,20,side='right')\n",
    "print(a)"
   ]
  },
  {
   "cell_type": "code",
   "execution_count": 6,
   "id": "0d2a592d",
   "metadata": {},
   "outputs": [
    {
     "name": "stdout",
     "output_type": "stream",
     "text": [
      "[0 2 2 4 5 5 6 7 8 9]\n"
     ]
    }
   ],
   "source": [
    "import numpy as np\n",
    "ar=np.array([7,5,8,9,0,2,6,4,2,5])\n",
    "a=np.sort(ar)\n",
    "print(a)"
   ]
  },
  {
   "cell_type": "code",
   "execution_count": 7,
   "id": "9f2c563f",
   "metadata": {},
   "outputs": [
    {
     "name": "stdout",
     "output_type": "stream",
     "text": [
      "[[2 5 7]\n",
      " [2 3 6]]\n"
     ]
    }
   ],
   "source": [
    "import numpy as np\n",
    "ar=np.array([[7,5,2],[6,2,3]])\n",
    "a=np.sort(ar)\n",
    "print(a)"
   ]
  },
  {
   "cell_type": "code",
   "execution_count": 9,
   "id": "3be6a49e",
   "metadata": {},
   "outputs": [
    {
     "name": "stdout",
     "output_type": "stream",
     "text": [
      "[7 5 2 6] \n",
      " [False, True, False, True] \n",
      " [5 6]\n"
     ]
    }
   ],
   "source": [
    "import numpy as np\n",
    "ar=np.array([7,5,2,6])\n",
    "x=[False,True,False,True]\n",
    "n=ar[x]\n",
    "print(ar,'\\n',x,'\\n',n)"
   ]
  },
  {
   "cell_type": "code",
   "execution_count": 11,
   "id": "42370f7c",
   "metadata": {},
   "outputs": [
    {
     "name": "stdout",
     "output_type": "stream",
     "text": [
      "[7 5 2 6 2 3] \n",
      " [ True  True False  True False False] \n",
      " [7 5 6]\n"
     ]
    }
   ],
   "source": [
    "import numpy as np\n",
    "ar=np.array([7,5,2,6,2,3])\n",
    "x=ar>3\n",
    "n=ar[x]\n",
    "print(ar,'\\n',x,'\\n',n)"
   ]
  },
  {
   "cell_type": "code",
   "execution_count": 12,
   "id": "6304917e",
   "metadata": {},
   "outputs": [
    {
     "name": "stdout",
     "output_type": "stream",
     "text": [
      "[10 20 30 40 50]\n",
      "[ 2  4  6  8 10]\n"
     ]
    }
   ],
   "source": [
    "import numpy as np\n",
    "a=np.array([10,20,30,40,50])\n",
    "b=np.array([2,4,6,8,10])\n",
    "print(a)\n",
    "print(b)\n"
   ]
  },
  {
   "cell_type": "code",
   "execution_count": 15,
   "id": "df270d40",
   "metadata": {},
   "outputs": [
    {
     "name": "stdout",
     "output_type": "stream",
     "text": [
      "[12 24 36 48 60]\n",
      "[ 8 16 24 32 40]\n",
      "[ 20  80 180 320 500]\n",
      "[5. 5. 5. 5. 5.]\n",
      "1100\n"
     ]
    }
   ],
   "source": [
    "import numpy as np\n",
    "a=np.array([10,20,30,40,50])\n",
    "b=np.array([2,4,6,8,10])\n",
    "print(a+b)\n",
    "print(a-b)\n",
    "print(a*b)\n",
    "print(a/b)\n",
    "print(a.dot(b))"
   ]
  },
  {
   "cell_type": "code",
   "execution_count": 16,
   "id": "a7dd4a46",
   "metadata": {},
   "outputs": [
    {
     "name": "stdout",
     "output_type": "stream",
     "text": [
      "8 \n",
      " [10 20 30 40 50] \n",
      " [ 80 160 240 320 400]\n"
     ]
    }
   ],
   "source": [
    "import numpy as np\n",
    "a=np.array([10,20,30,40,50])\n",
    "b=np.array([2,4,6,8,10])\n",
    "s=8\n",
    "print(s,'\\n',a,'\\n',a*s)"
   ]
  },
  {
   "cell_type": "code",
   "execution_count": 19,
   "id": "af882584",
   "metadata": {},
   "outputs": [
    {
     "name": "stdout",
     "output_type": "stream",
     "text": [
      "[10, 2, 20, 3]\n",
      "[4, 30, 5, 40]\n",
      "output\n",
      "[ 6 32 15 43]\n"
     ]
    }
   ],
   "source": [
    "def my(x,y):\n",
    "    if x>y:\n",
    "        return x-y\n",
    "    else:\n",
    "        return x+y\n",
    "a=[10,2,20,3]\n",
    "b=[4,30,5,40]\n",
    "vec=np.vectorize(my)\n",
    "print(a)\n",
    "print(b)\n",
    "print(\"output\")\n",
    "print(vec(a,b))"
   ]
  },
  {
   "cell_type": "code",
   "execution_count": null,
   "id": "00a1e5f2",
   "metadata": {},
   "outputs": [],
   "source": []
  }
 ],
 "metadata": {
  "kernelspec": {
   "display_name": "Python 3 (ipykernel)",
   "language": "python",
   "name": "python3"
  },
  "language_info": {
   "codemirror_mode": {
    "name": "ipython",
    "version": 3
   },
   "file_extension": ".py",
   "mimetype": "text/x-python",
   "name": "python",
   "nbconvert_exporter": "python",
   "pygments_lexer": "ipython3",
   "version": "3.9.12"
  }
 },
 "nbformat": 4,
 "nbformat_minor": 5
}
