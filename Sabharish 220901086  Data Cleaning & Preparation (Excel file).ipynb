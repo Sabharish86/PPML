{
 "cells": [
  {
   "cell_type": "code",
   "execution_count": 2,
   "id": "e45eecd5-684e-4711-9c53-15df310d6491",
   "metadata": {
    "scrolled": true
   },
   "outputs": [
    {
     "name": "stdout",
     "output_type": "stream",
     "text": [
      "Original data set from Excel file:\n",
      "\n",
      "   ROLL     NAME  ENGLISH  TAMIL  MATHS  SCIENCE  SOCIAL  TOTAL\n",
      "0   101    DEEPA     50.0     67     50     67.0      50    284\n",
      "1   102   DINESH     56.0     89     56     89.0      56    346\n",
      "2   103   KAVIYA     80.0     80     80     80.0      80    400\n",
      "3   104  RACHEAL     89.0     87     89     87.0      89    441\n",
      "4   105    RAJAN      NaN     98     90     98.0      90    466\n",
      "5   106    RAMYA     67.0     76     67     76.0      67    353\n",
      "6   107    ROHAN     56.0     67     56     67.0      56    302\n",
      "7   108   ROHINI     57.0     65     57     65.0      57    301\n",
      "8   109  SANDHYA     58.0     56     58     56.0      58    286\n",
      "9   110  SARANYA     49.0     45     49      NaN      49    237\n"
     ]
    }
   ],
   "source": [
    "import pandas as pd\n",
    "pd.set_option('display.max_columns', 10)\n",
    "print(\"Original data set from Excel file:\\n\")\n",
    "df=pd.read_excel(\"dcap.xlsx\")\n",
    "print(df)"
   ]
  },
  {
   "cell_type": "code",
   "execution_count": 14,
   "id": "386dc3f0-009e-4f7f-9dfb-0db4965e7cc0",
   "metadata": {},
   "outputs": [
    {
     "name": "stdout",
     "output_type": "stream",
     "text": [
      "0      DEEPA\n",
      "1     DINESH\n",
      "2     KAVIYA\n",
      "3    RACHEAL\n",
      "4      RAJAN\n",
      "5      RAMYA\n",
      "6      ROHAN\n",
      "7     ROHINI\n",
      "8    SANDHYA\n",
      "9    SARANYA\n",
      "Name: NAME, dtype: object\n"
     ]
    }
   ],
   "source": [
    "f=df['NAME'].str.strip()\n",
    "\n",
    "#f.to_excel(\"sample22.xlsx\")\n",
    "print(f)"
   ]
  },
  {
   "cell_type": "code",
   "execution_count": 18,
   "id": "9f928415-8630-4876-8ffd-d64c142521b0",
   "metadata": {},
   "outputs": [
    {
     "name": "stdout",
     "output_type": "stream",
     "text": [
      "\n",
      "Replace value with Forward:\n",
      "\n",
      "   ROLL     NAME  ENGLISH  TAMIL  MATHS  SCIENCE  SOCIAL  TOTAL\n",
      "0   101    DEEPA     50.0     67     50     67.0      50    284\n",
      "1   102   DINESH     56.0     89     56     89.0      56    346\n",
      "2   103   KAVIYA     80.0     80     80     80.0      80    400\n",
      "3   104  RACHEAL     89.0     87     89     87.0      89    441\n",
      "4   105    RAJAN     89.0     98     90     98.0      90    466\n",
      "5   106    RAMYA     67.0     76     67     76.0      67    353\n",
      "6   107    ROHAN     56.0     67     56     67.0      56    302\n",
      "7   108   ROHINI     57.0     65     57     65.0      57    301\n",
      "8   109  SANDHYA     58.0     56     58     56.0      58    286\n",
      "9   110  SARANYA     49.0     45     49     56.0      49    237\n",
      "\n",
      "The above updated data set will be stored in sample2.xlsx file....\n",
      "\n"
     ]
    },
    {
     "name": "stderr",
     "output_type": "stream",
     "text": [
      "C:\\Users\\Tcs\\AppData\\Local\\Temp\\ipykernel_4904\\1888627935.py:2: FutureWarning: DataFrame.fillna with 'method' is deprecated and will raise in a future version. Use obj.ffill() or obj.bfill() instead.\n",
      "  k=df.fillna(method='pad')\n"
     ]
    }
   ],
   "source": [
    "print(\"\\nReplace value with Forward:\\n\")\n",
    "k=df.fillna(method='pad')\n",
    "print(k)\n",
    "print(\"\\nThe above updated data set will be stored in sample2.xlsx file....\\n\")\n",
    "k.to_excel(\"sample2.xlsx\")"
   ]
  },
  {
   "cell_type": "code",
   "execution_count": 28,
   "id": "aca274b4-068c-4daf-a2c2-7e5a5e6b030d",
   "metadata": {},
   "outputs": [
    {
     "name": "stdout",
     "output_type": "stream",
     "text": [
      "\n",
      "Drop one particular column and its values:\n",
      "\n",
      "   ROLL  ENGLISH  TAMIL  MATHS  SCIENCE  SOCIAL\n",
      "0   101     50.0     67     50     67.0      50\n",
      "1   102     56.0     89     56     89.0      56\n",
      "2   103     80.0     80     80     80.0      80\n",
      "3   104     89.0     87     89     87.0      89\n",
      "4   105     89.0     98     90     98.0      90\n",
      "5   106     67.0     76     67     76.0      67\n",
      "6   107     56.0     67     56     67.0      56\n",
      "7   108     57.0     65     57     65.0      57\n",
      "8   109     58.0     56     58     56.0      58\n",
      "9   110     49.0     45     49     56.0      49\n",
      "\n",
      "The above updated data set will be stored in sample3.xlsx file....\n",
      "\n"
     ]
    }
   ],
   "source": [
    "print(\"\\nDrop one particular column and its values:\\n\")\n",
    "k.drop(['NAME'],axis=1, inplace=True)\n",
    "print(k)\n",
    "print(\"\\nThe above updated data set will be stored in sample3.xlsx file....\\n\")\n",
    "\f",
    "k.to_excel(\"sample3.xlsx\")"
   ]
  },
  {
   "cell_type": "code",
   "execution_count": 32,
   "id": "9a4eb250-c996-4c7c-bde7-c2e713c53c0e",
   "metadata": {},
   "outputs": [
    {
     "name": "stdout",
     "output_type": "stream",
     "text": [
      "\n",
      "Drop NaN rows:\n",
      "\n",
      "   ROLL     NAME  ENGLISH  TAMIL  MATHS  SCIENCE  SOCIAL  TOTAL\n",
      "0   101    DEEPA     50.0     67     50     67.0      50    284\n",
      "1   102   DINESH     56.0     89     56     89.0      56    346\n",
      "2   103   KAVIYA     80.0     80     80     80.0      80    400\n",
      "3   104  RACHEAL     89.0     87     89     87.0      89    441\n",
      "4   105    RAJAN      NaN     98     90     98.0      90    466\n",
      "5   106    RAMYA     67.0     76     67     76.0      67    353\n",
      "6   107    ROHAN     56.0     67     56     67.0      56    302\n",
      "7   108   ROHINI     57.0     65     57     65.0      57    301\n",
      "8   109  SANDHYA     58.0     56     58     56.0      58    286\n",
      "9   110  SARANYA     49.0     45     49      NaN      49    237\n",
      "   ROLL     NAME  ENGLISH  TAMIL  MATHS  SCIENCE  SOCIAL  TOTAL\n",
      "0   101    DEEPA     50.0     67     50     67.0      50    284\n",
      "1   102   DINESH     56.0     89     56     89.0      56    346\n",
      "2   103   KAVIYA     80.0     80     80     80.0      80    400\n",
      "3   104  RACHEAL     89.0     87     89     87.0      89    441\n",
      "5   106    RAMYA     67.0     76     67     76.0      67    353\n",
      "6   107    ROHAN     56.0     67     56     67.0      56    302\n",
      "7   108   ROHINI     57.0     65     57     65.0      57    301\n",
      "8   109  SANDHYA     58.0     56     58     56.0      58    286\n",
      "\n",
      "The above updated data set will be stored in sample5.xlsx file....\n",
      "\n"
     ]
    }
   ],
   "source": [
    "print(\"\\nDrop NaN rows:\\n\")\n",
    "df=pd.read_excel(\"dcap.xlsx\")\n",
    "print(df)\n",
    "x=df.dropna()\n",
    "print(x)\n",
    "print(\"\\nThe above updated data set will be stored in sample5.xlsx file....\\n\")\n",
    "x.to_excel(\"sample5.xlsx\")"
   ]
  },
  {
   "cell_type": "code",
   "execution_count": 34,
   "id": "6af1e219-6266-474d-95f0-b0089222ce8f",
   "metadata": {},
   "outputs": [
    {
     "name": "stdout",
     "output_type": "stream",
     "text": [
      "\n",
      "Replace values:\n",
      "\n",
      "Original data set:\n",
      "\n",
      "   ROLL     NAME  ENGLISH  TAMIL  MATHS  SCIENCE  SOCIAL  TOTAL\n",
      "0   101    DEEPA     50.0     67     50     67.0      50    284\n",
      "1   102   DINESH     56.0     89     56     89.0      56    346\n",
      "2   103   KAVIYA     80.0     80     80     80.0      80    400\n",
      "3   104  RACHEAL     89.0     87     89     87.0      89    441\n",
      "4   105    RAJAN      NaN     98     90     98.0      90    466\n",
      "5   106    RAMYA     67.0     76     67     76.0      67    353\n",
      "6   107    ROHAN     56.0     67     56     67.0      56    302\n",
      "7   108   ROHINI     57.0     65     57     65.0      57    301\n",
      "8   109  SANDHYA     58.0     56     58     56.0      58    286\n",
      "9   110  SARANYA     49.0     45     49      NaN      49    237\n",
      "\n",
      "Updated dataset with replaced values: {49:50}\n",
      "\n",
      "   ROLL     NAME  ENGLISH  TAMIL  MATHS  SCIENCE  SOCIAL  TOTAL\n",
      "0   101    DEEPA     50.0     67     50     67.0      50    284\n",
      "1   102   DINESH     56.0     89     56     89.0      56    346\n",
      "2   103   KAVIYA     80.0     80     80     80.0      80    400\n",
      "3   104  RACHEAL     89.0     87     89     87.0      89    441\n",
      "4   105    RAJAN      NaN     98     90     98.0      90    466\n",
      "5   106    RAMYA     67.0     76     67     76.0      67    353\n",
      "6   107    ROHAN     56.0     67     56     67.0      56    302\n",
      "7   108   ROHINI     57.0     65     57     65.0      57    301\n",
      "8   109  SANDHYA     58.0     56     58     56.0      58    286\n",
      "9   110  SARANYA     50.0     45     50      NaN      50    237\n",
      "\n",
      "The above updated data set will be stored in sample6.xlsx file....\n",
      "\n"
     ]
    }
   ],
   "source": [
    "print(\"\\nReplace values:\\n\")\n",
    "n=pd.read_excel(\"dcap.xlsx\")\n",
    "print(\"Original data set:\\n\");\n",
    "print(n)\n",
    "y=n.replace({49:50})\n",
    "print(\"\\nUpdated dataset with replaced values: {49:50}\\n\")\n",
    "print(y)\n",
    "print(\"\\nThe above updated data set will be stored in sample6.xlsx file....\\n\")\n",
    "y.to_excel(\"sample6.xlsx\")"
   ]
  },
  {
   "cell_type": "code",
   "execution_count": 38,
   "id": "a25a45ba-ae30-4166-8af7-693fe44cb4be",
   "metadata": {},
   "outputs": [
    {
     "name": "stdout",
     "output_type": "stream",
     "text": [
      "Original data set from Excel file:\n",
      "\n",
      "   ROLL     NAME  ENGLISH  TAMIL  MATHS  SCIENCE  SOCIAL  TOTAL\n",
      "0   101    DEEPA     50.0     67     50     67.0      50    284\n",
      "1   102   DINESH     56.0     89     56     89.0      56    346\n",
      "2   103   KAVIYA     80.0     80     80     80.0      80    400\n",
      "3   104  RACHEAL     89.0     87     89     87.0      89    441\n",
      "4   105    RAJAN      NaN     98     90     98.0      90    466\n",
      "5   106    RAMYA     67.0     76     67     76.0      67    353\n",
      "6   107    ROHAN     56.0     67     56     67.0      56    302\n",
      "7   108   ROHINI     57.0     65     57     65.0      57    301\n",
      "8   109  SANDHYA     58.0     56     58     56.0      58    286\n",
      "9   110  SARANYA     49.0     45     49      NaN      49    237\n",
      "\n",
      "Extract the particular record based’on the isin() function condition:\n",
      "\n",
      "   ROLL     NAME  ENGLISH  TAMIL  MATHS  SCIENCE  SOCIAL  TOTAL\n",
      "9   110  SARANYA     49.0     45     49      NaN      49    237\n"
     ]
    }
   ],
   "source": [
    "print(\"Original data set from Excel file:\\n\")\n",
    "df=pd.read_excel(\"dcap.xlsx\")\n",
    "print(df)\n",
    "\n",
    "print(\"\\nExtract the particular record based’on the isin() function condition:\\n\")\n",
    "new=df['ENGLISH'].isin([49])\n",
    "print(df[new])\n"
   ]
  },
  {
   "cell_type": "code",
   "execution_count": null,
   "id": "ac29bf9a-af7b-4c86-8e73-58bc5a93776d",
   "metadata": {},
   "outputs": [],
   "source": []
  }
 ],
 "metadata": {
  "kernelspec": {
   "display_name": "Python 3 (ipykernel)",
   "language": "python",
   "name": "python3"
  },
  "language_info": {
   "codemirror_mode": {
    "name": "ipython",
    "version": 3
   },
   "file_extension": ".py",
   "mimetype": "text/x-python",
   "name": "python",
   "nbconvert_exporter": "python",
   "pygments_lexer": "ipython3",
   "version": "3.12.4"
  }
 },
 "nbformat": 4,
 "nbformat_minor": 5
}
